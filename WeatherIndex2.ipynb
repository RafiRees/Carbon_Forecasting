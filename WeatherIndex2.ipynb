{
 "cells": [
  {
   "cell_type": "markdown",
   "metadata": {},
   "source": [
    "# Creating a weather Index"
   ]
  },
  {
   "cell_type": "markdown",
   "metadata": {},
   "source": [
    "Import the required modules."
   ]
  },
  {
   "cell_type": "code",
   "execution_count": 331,
   "metadata": {},
   "outputs": [],
   "source": [
    "import pandas as pd\n",
    "import numpy as np\n",
    "import datetime as dt\n",
    "import matplotlib.pyplot as plt\n",
    "from dateutil.relativedelta import relativedelta\n",
    "from pathlib import Path"
   ]
  },
  {
   "cell_type": "markdown",
   "metadata": {},
   "source": [
    "Read the csv containing the city temperature data. The data comes from \"the University of Dayton - Environmental Protection Agency Average Daily Temperature Archive\". Access the data here: https://www.kaggle.com/datasets/sudalairajkumar/daily-temperature-of-major-cities?resource=download. It was accessed and downloaded on 21/10/2022."
   ]
  },
  {
   "cell_type": "code",
   "execution_count": 332,
   "metadata": {},
   "outputs": [
    {
     "name": "stderr",
     "output_type": "stream",
     "text": [
      "C:\\Users\\rafir\\AppData\\Local\\Temp\\ipykernel_10368\\3101557854.py:2: DtypeWarning: Columns (2) have mixed types. Specify dtype option on import or set low_memory=False.\n",
      "  df = pd.read_csv(read_temp_path)\n"
     ]
    }
   ],
   "source": [
    "read_temp_path = Path(\"__file__\").parent.joinpath(\"Raw_Data\", \"Weather_Data\").parent.joinpath(\"Weather_Data\", \"city_temperature.csv\")\n",
    "df = pd.read_csv(read_temp_path)\n",
    "#print(read_temp_path)"
   ]
  },
  {
   "cell_type": "markdown",
   "metadata": {},
   "source": [
    "Have a look at the data"
   ]
  },
  {
   "cell_type": "code",
   "execution_count": 333,
   "metadata": {},
   "outputs": [
    {
     "data": {
      "text/html": [
       "<div>\n",
       "<style scoped>\n",
       "    .dataframe tbody tr th:only-of-type {\n",
       "        vertical-align: middle;\n",
       "    }\n",
       "\n",
       "    .dataframe tbody tr th {\n",
       "        vertical-align: top;\n",
       "    }\n",
       "\n",
       "    .dataframe thead th {\n",
       "        text-align: right;\n",
       "    }\n",
       "</style>\n",
       "<table border=\"1\" class=\"dataframe\">\n",
       "  <thead>\n",
       "    <tr style=\"text-align: right;\">\n",
       "      <th></th>\n",
       "      <th>Region</th>\n",
       "      <th>Country</th>\n",
       "      <th>State</th>\n",
       "      <th>City</th>\n",
       "      <th>Month</th>\n",
       "      <th>Day</th>\n",
       "      <th>Year</th>\n",
       "      <th>AvgTemperature</th>\n",
       "    </tr>\n",
       "  </thead>\n",
       "  <tbody>\n",
       "    <tr>\n",
       "      <th>0</th>\n",
       "      <td>Africa</td>\n",
       "      <td>Algeria</td>\n",
       "      <td>NaN</td>\n",
       "      <td>Algiers</td>\n",
       "      <td>1</td>\n",
       "      <td>1</td>\n",
       "      <td>1995</td>\n",
       "      <td>64.2</td>\n",
       "    </tr>\n",
       "    <tr>\n",
       "      <th>1</th>\n",
       "      <td>Africa</td>\n",
       "      <td>Algeria</td>\n",
       "      <td>NaN</td>\n",
       "      <td>Algiers</td>\n",
       "      <td>1</td>\n",
       "      <td>2</td>\n",
       "      <td>1995</td>\n",
       "      <td>49.4</td>\n",
       "    </tr>\n",
       "    <tr>\n",
       "      <th>2</th>\n",
       "      <td>Africa</td>\n",
       "      <td>Algeria</td>\n",
       "      <td>NaN</td>\n",
       "      <td>Algiers</td>\n",
       "      <td>1</td>\n",
       "      <td>3</td>\n",
       "      <td>1995</td>\n",
       "      <td>48.8</td>\n",
       "    </tr>\n",
       "    <tr>\n",
       "      <th>3</th>\n",
       "      <td>Africa</td>\n",
       "      <td>Algeria</td>\n",
       "      <td>NaN</td>\n",
       "      <td>Algiers</td>\n",
       "      <td>1</td>\n",
       "      <td>4</td>\n",
       "      <td>1995</td>\n",
       "      <td>46.4</td>\n",
       "    </tr>\n",
       "    <tr>\n",
       "      <th>4</th>\n",
       "      <td>Africa</td>\n",
       "      <td>Algeria</td>\n",
       "      <td>NaN</td>\n",
       "      <td>Algiers</td>\n",
       "      <td>1</td>\n",
       "      <td>5</td>\n",
       "      <td>1995</td>\n",
       "      <td>47.9</td>\n",
       "    </tr>\n",
       "  </tbody>\n",
       "</table>\n",
       "</div>"
      ],
      "text/plain": [
       "   Region  Country State     City  Month  Day  Year  AvgTemperature\n",
       "0  Africa  Algeria   NaN  Algiers      1    1  1995            64.2\n",
       "1  Africa  Algeria   NaN  Algiers      1    2  1995            49.4\n",
       "2  Africa  Algeria   NaN  Algiers      1    3  1995            48.8\n",
       "3  Africa  Algeria   NaN  Algiers      1    4  1995            46.4\n",
       "4  Africa  Algeria   NaN  Algiers      1    5  1995            47.9"
      ]
     },
     "execution_count": 333,
     "metadata": {},
     "output_type": "execute_result"
    }
   ],
   "source": [
    "df.head()"
   ]
  },
  {
   "cell_type": "markdown",
   "metadata": {},
   "source": [
    "Clean the data so we only use cities in Europe and  after 2012. Also compile the month, day and year columns into one date column and then drop all extra columns such as state, month, day and year."
   ]
  },
  {
   "cell_type": "code",
   "execution_count": 334,
   "metadata": {},
   "outputs": [
    {
     "name": "stderr",
     "output_type": "stream",
     "text": [
      "C:\\Users\\rafir\\AppData\\Local\\Temp\\ipykernel_10368\\3588276134.py:3: SettingWithCopyWarning: \n",
      "A value is trying to be set on a copy of a slice from a DataFrame.\n",
      "Try using .loc[row_indexer,col_indexer] = value instead\n",
      "\n",
      "See the caveats in the documentation: https://pandas.pydata.org/pandas-docs/stable/user_guide/indexing.html#returning-a-view-versus-a-copy\n",
      "  df['Date'] = df[cols].apply(lambda x: '-'.join(x.values.astype(str)), axis=\"columns\")\n"
     ]
    },
    {
     "data": {
      "text/html": [
       "<div>\n",
       "<style scoped>\n",
       "    .dataframe tbody tr th:only-of-type {\n",
       "        vertical-align: middle;\n",
       "    }\n",
       "\n",
       "    .dataframe tbody tr th {\n",
       "        vertical-align: top;\n",
       "    }\n",
       "\n",
       "    .dataframe thead th {\n",
       "        text-align: right;\n",
       "    }\n",
       "</style>\n",
       "<table border=\"1\" class=\"dataframe\">\n",
       "  <thead>\n",
       "    <tr style=\"text-align: right;\">\n",
       "      <th></th>\n",
       "      <th>Region</th>\n",
       "      <th>Country</th>\n",
       "      <th>City</th>\n",
       "      <th>AvgTemperature</th>\n",
       "      <th>Date</th>\n",
       "    </tr>\n",
       "  </thead>\n",
       "  <tbody>\n",
       "    <tr>\n",
       "      <th>629586</th>\n",
       "      <td>Europe</td>\n",
       "      <td>Albania</td>\n",
       "      <td>Tirana</td>\n",
       "      <td>34.9</td>\n",
       "      <td>2012-01-01</td>\n",
       "    </tr>\n",
       "    <tr>\n",
       "      <th>629587</th>\n",
       "      <td>Europe</td>\n",
       "      <td>Albania</td>\n",
       "      <td>Tirana</td>\n",
       "      <td>39.1</td>\n",
       "      <td>2012-01-02</td>\n",
       "    </tr>\n",
       "    <tr>\n",
       "      <th>629588</th>\n",
       "      <td>Europe</td>\n",
       "      <td>Albania</td>\n",
       "      <td>Tirana</td>\n",
       "      <td>43.0</td>\n",
       "      <td>2012-01-03</td>\n",
       "    </tr>\n",
       "    <tr>\n",
       "      <th>629589</th>\n",
       "      <td>Europe</td>\n",
       "      <td>Albania</td>\n",
       "      <td>Tirana</td>\n",
       "      <td>44.1</td>\n",
       "      <td>2012-01-04</td>\n",
       "    </tr>\n",
       "    <tr>\n",
       "      <th>629590</th>\n",
       "      <td>Europe</td>\n",
       "      <td>Albania</td>\n",
       "      <td>Tirana</td>\n",
       "      <td>49.7</td>\n",
       "      <td>2012-01-05</td>\n",
       "    </tr>\n",
       "  </tbody>\n",
       "</table>\n",
       "</div>"
      ],
      "text/plain": [
       "        Region  Country    City  AvgTemperature       Date\n",
       "629586  Europe  Albania  Tirana            34.9 2012-01-01\n",
       "629587  Europe  Albania  Tirana            39.1 2012-01-02\n",
       "629588  Europe  Albania  Tirana            43.0 2012-01-03\n",
       "629589  Europe  Albania  Tirana            44.1 2012-01-04\n",
       "629590  Europe  Albania  Tirana            49.7 2012-01-05"
      ]
     },
     "execution_count": 334,
     "metadata": {},
     "output_type": "execute_result"
    }
   ],
   "source": [
    "df = df[(df.Region == \"Europe\") & (df.Year >= 2012)]  \n",
    "cols=[\"Month\",\"Day\",\"Year\"]\n",
    "df['Date'] = df[cols].apply(lambda x: '-'.join(x.values.astype(str)), axis=\"columns\")\n",
    "df['Date']=pd.to_datetime(df['Date'])\n",
    "df = df.drop(df.columns[[2,4,5,6]], axis = 1)\n",
    "df.head()"
   ]
  },
  {
   "cell_type": "markdown",
   "metadata": {},
   "source": [
    "Restrict the dataset to just countries involved in the EU ETS. I then sorted the data by date and country."
   ]
  },
  {
   "cell_type": "code",
   "execution_count": 335,
   "metadata": {},
   "outputs": [
    {
     "data": {
      "text/html": [
       "<div>\n",
       "<style scoped>\n",
       "    .dataframe tbody tr th:only-of-type {\n",
       "        vertical-align: middle;\n",
       "    }\n",
       "\n",
       "    .dataframe tbody tr th {\n",
       "        vertical-align: top;\n",
       "    }\n",
       "\n",
       "    .dataframe thead th {\n",
       "        text-align: right;\n",
       "    }\n",
       "</style>\n",
       "<table border=\"1\" class=\"dataframe\">\n",
       "  <thead>\n",
       "    <tr style=\"text-align: right;\">\n",
       "      <th></th>\n",
       "      <th>Region</th>\n",
       "      <th>Country</th>\n",
       "      <th>City</th>\n",
       "      <th>AvgTemperature</th>\n",
       "      <th>Date</th>\n",
       "    </tr>\n",
       "  </thead>\n",
       "  <tbody>\n",
       "    <tr>\n",
       "      <th>638852</th>\n",
       "      <td>Europe</td>\n",
       "      <td>Austria</td>\n",
       "      <td>Vienna</td>\n",
       "      <td>33.1</td>\n",
       "      <td>2012-01-01</td>\n",
       "    </tr>\n",
       "    <tr>\n",
       "      <th>638853</th>\n",
       "      <td>Europe</td>\n",
       "      <td>Austria</td>\n",
       "      <td>Vienna</td>\n",
       "      <td>34.5</td>\n",
       "      <td>2012-01-02</td>\n",
       "    </tr>\n",
       "    <tr>\n",
       "      <th>638854</th>\n",
       "      <td>Europe</td>\n",
       "      <td>Austria</td>\n",
       "      <td>Vienna</td>\n",
       "      <td>43.3</td>\n",
       "      <td>2012-01-03</td>\n",
       "    </tr>\n",
       "    <tr>\n",
       "      <th>638855</th>\n",
       "      <td>Europe</td>\n",
       "      <td>Austria</td>\n",
       "      <td>Vienna</td>\n",
       "      <td>41.1</td>\n",
       "      <td>2012-01-04</td>\n",
       "    </tr>\n",
       "    <tr>\n",
       "      <th>638856</th>\n",
       "      <td>Europe</td>\n",
       "      <td>Austria</td>\n",
       "      <td>Vienna</td>\n",
       "      <td>41.7</td>\n",
       "      <td>2012-01-05</td>\n",
       "    </tr>\n",
       "  </tbody>\n",
       "</table>\n",
       "</div>"
      ],
      "text/plain": [
       "        Region  Country    City  AvgTemperature       Date\n",
       "638852  Europe  Austria  Vienna            33.1 2012-01-01\n",
       "638853  Europe  Austria  Vienna            34.5 2012-01-02\n",
       "638854  Europe  Austria  Vienna            43.3 2012-01-03\n",
       "638855  Europe  Austria  Vienna            41.1 2012-01-04\n",
       "638856  Europe  Austria  Vienna            41.7 2012-01-05"
      ]
     },
     "execution_count": 335,
     "metadata": {},
     "output_type": "execute_result"
    }
   ],
   "source": [
    "EU_Countries = ['Austria', 'Belgium', 'Bulgaria', 'Croatia',  'Czech Republic', 'Denmark',  'Finland', 'France', 'Germany', \n",
    "'Greece', 'Hungary', 'Iceland', 'Ireland', 'Italy', 'Latvia', 'The Netherlands', 'Poland', 'Portugal', 'Romania', \n",
    "'Slovakia',  'Spain', 'Sweden',  'Norway']\n",
    "\n",
    "\n",
    "df = df[df.Country.isin(EU_Countries)]\n",
    "#df = df.sort_values(by = [\"\"])\n",
    "df.head()"
   ]
  },
  {
   "cell_type": "markdown",
   "metadata": {},
   "source": [
    "Save this data to a csv if you wish."
   ]
  },
  {
   "cell_type": "code",
   "execution_count": 336,
   "metadata": {},
   "outputs": [],
   "source": [
    "#write_temp_path = Path(\"__file__\").parent.joinpath(\"Manipulated_Data\", \"Weather_Data\").parent.joinpath(\"Weather_Data\", \"Grouped EU Weather.csv\")\n",
    "#df.to_csv(write_temp_path)"
   ]
  },
  {
   "cell_type": "markdown",
   "metadata": {},
   "source": [
    "Now import a new database. All of the data is downloaded from Macrotrends https://www.macrotrends.net, who cite the United Nations - World Population Prospects as their source.It was accessed and downloaded on the 02/11/2022. It details the population of all the European cities at the start of each year. "
   ]
  },
  {
   "cell_type": "code",
   "execution_count": 337,
   "metadata": {},
   "outputs": [],
   "source": [
    "read_pop_path = Path(\"__file__\").parent.joinpath(\"Raw_Data\", \"Weather_Data\").parent.joinpath(\"Weather_Data\", \"Cities Pop.xlsx\")\n",
    "pop_df = pd.read_excel(read_pop_path)\n",
    "pop_df.set_index(\"Year\", inplace=True)"
   ]
  },
  {
   "cell_type": "code",
   "execution_count": 338,
   "metadata": {},
   "outputs": [
    {
     "data": {
      "text/html": [
       "<div>\n",
       "<style scoped>\n",
       "    .dataframe tbody tr th:only-of-type {\n",
       "        vertical-align: middle;\n",
       "    }\n",
       "\n",
       "    .dataframe tbody tr th {\n",
       "        vertical-align: top;\n",
       "    }\n",
       "\n",
       "    .dataframe thead th {\n",
       "        text-align: right;\n",
       "    }\n",
       "</style>\n",
       "<table border=\"1\" class=\"dataframe\">\n",
       "  <thead>\n",
       "    <tr style=\"text-align: right;\">\n",
       "      <th></th>\n",
       "      <th>Vienna</th>\n",
       "      <th>Brussels</th>\n",
       "      <th>Sofia</th>\n",
       "      <th>Zagreb</th>\n",
       "      <th>Prague</th>\n",
       "      <th>Copenhagen</th>\n",
       "      <th>Helsinki</th>\n",
       "      <th>Paris</th>\n",
       "      <th>Bordeaux</th>\n",
       "      <th>Munich</th>\n",
       "      <th>...</th>\n",
       "      <th>Oslo</th>\n",
       "      <th>Warsaw</th>\n",
       "      <th>Lisbon</th>\n",
       "      <th>Bucharest</th>\n",
       "      <th>Bratislava</th>\n",
       "      <th>Barcelona</th>\n",
       "      <th>Bilbao</th>\n",
       "      <th>Madrid</th>\n",
       "      <th>Stockholm</th>\n",
       "      <th>Amsterdam</th>\n",
       "    </tr>\n",
       "    <tr>\n",
       "      <th>Year</th>\n",
       "      <th></th>\n",
       "      <th></th>\n",
       "      <th></th>\n",
       "      <th></th>\n",
       "      <th></th>\n",
       "      <th></th>\n",
       "      <th></th>\n",
       "      <th></th>\n",
       "      <th></th>\n",
       "      <th></th>\n",
       "      <th></th>\n",
       "      <th></th>\n",
       "      <th></th>\n",
       "      <th></th>\n",
       "      <th></th>\n",
       "      <th></th>\n",
       "      <th></th>\n",
       "      <th></th>\n",
       "      <th></th>\n",
       "      <th></th>\n",
       "      <th></th>\n",
       "    </tr>\n",
       "  </thead>\n",
       "  <tbody>\n",
       "    <tr>\n",
       "      <th>2012</th>\n",
       "      <td>1772000</td>\n",
       "      <td>1956000</td>\n",
       "      <td>1237000</td>\n",
       "      <td>688000</td>\n",
       "      <td>1248000</td>\n",
       "      <td>1223000</td>\n",
       "      <td>1167000</td>\n",
       "      <td>10569000</td>\n",
       "      <td>876000</td>\n",
       "      <td>1387000</td>\n",
       "      <td>...</td>\n",
       "      <td>927000</td>\n",
       "      <td>1713000</td>\n",
       "      <td>2840000</td>\n",
       "      <td>1877000</td>\n",
       "      <td>414000</td>\n",
       "      <td>5068000</td>\n",
       "      <td>351000</td>\n",
       "      <td>5957000</td>\n",
       "      <td>1412000</td>\n",
       "      <td>1081000</td>\n",
       "    </tr>\n",
       "    <tr>\n",
       "      <th>2013</th>\n",
       "      <td>1793000</td>\n",
       "      <td>1972000</td>\n",
       "      <td>1245000</td>\n",
       "      <td>687000</td>\n",
       "      <td>1255000</td>\n",
       "      <td>1239000</td>\n",
       "      <td>1186000</td>\n",
       "      <td>10623000</td>\n",
       "      <td>887000</td>\n",
       "      <td>1404000</td>\n",
       "      <td>...</td>\n",
       "      <td>941000</td>\n",
       "      <td>1722000</td>\n",
       "      <td>2854000</td>\n",
       "      <td>1868000</td>\n",
       "      <td>417000</td>\n",
       "      <td>5137000</td>\n",
       "      <td>352000</td>\n",
       "      <td>6044000</td>\n",
       "      <td>1439000</td>\n",
       "      <td>1089000</td>\n",
       "    </tr>\n",
       "    <tr>\n",
       "      <th>2014</th>\n",
       "      <td>1814000</td>\n",
       "      <td>1987000</td>\n",
       "      <td>1250000</td>\n",
       "      <td>687000</td>\n",
       "      <td>1262000</td>\n",
       "      <td>1255000</td>\n",
       "      <td>1204000</td>\n",
       "      <td>10678000</td>\n",
       "      <td>899000</td>\n",
       "      <td>1421000</td>\n",
       "      <td>...</td>\n",
       "      <td>954000</td>\n",
       "      <td>1731000</td>\n",
       "      <td>2869000</td>\n",
       "      <td>1858000</td>\n",
       "      <td>419000</td>\n",
       "      <td>5206000</td>\n",
       "      <td>352000</td>\n",
       "      <td>6132000</td>\n",
       "      <td>1467000</td>\n",
       "      <td>1098000</td>\n",
       "    </tr>\n",
       "    <tr>\n",
       "      <th>2015</th>\n",
       "      <td>1835000</td>\n",
       "      <td>2002000</td>\n",
       "      <td>1256000</td>\n",
       "      <td>687000</td>\n",
       "      <td>1269000</td>\n",
       "      <td>1271000</td>\n",
       "      <td>1222000</td>\n",
       "      <td>10734000</td>\n",
       "      <td>910000</td>\n",
       "      <td>1440000</td>\n",
       "      <td>...</td>\n",
       "      <td>969000</td>\n",
       "      <td>1740000</td>\n",
       "      <td>2883000</td>\n",
       "      <td>1849000</td>\n",
       "      <td>422000</td>\n",
       "      <td>5277000</td>\n",
       "      <td>352000</td>\n",
       "      <td>6221000</td>\n",
       "      <td>1495000</td>\n",
       "      <td>1106000</td>\n",
       "    </tr>\n",
       "    <tr>\n",
       "      <th>2016</th>\n",
       "      <td>1857000</td>\n",
       "      <td>2018000</td>\n",
       "      <td>1261000</td>\n",
       "      <td>686000</td>\n",
       "      <td>1277000</td>\n",
       "      <td>1287000</td>\n",
       "      <td>1241000</td>\n",
       "      <td>10789000</td>\n",
       "      <td>922000</td>\n",
       "      <td>1461000</td>\n",
       "      <td>...</td>\n",
       "      <td>983000</td>\n",
       "      <td>1749000</td>\n",
       "      <td>2898000</td>\n",
       "      <td>1840000</td>\n",
       "      <td>425000</td>\n",
       "      <td>5348000</td>\n",
       "      <td>352000</td>\n",
       "      <td>6312000</td>\n",
       "      <td>1524000</td>\n",
       "      <td>1115000</td>\n",
       "    </tr>\n",
       "  </tbody>\n",
       "</table>\n",
       "<p>5 rows × 27 columns</p>\n",
       "</div>"
      ],
      "text/plain": [
       "       Vienna  Brussels    Sofia  Zagreb   Prague  Copenhagen  Helsinki  \\\n",
       "Year                                                                      \n",
       "2012  1772000   1956000  1237000  688000  1248000     1223000   1167000   \n",
       "2013  1793000   1972000  1245000  687000  1255000     1239000   1186000   \n",
       "2014  1814000   1987000  1250000  687000  1262000     1255000   1204000   \n",
       "2015  1835000   2002000  1256000  687000  1269000     1271000   1222000   \n",
       "2016  1857000   2018000  1261000  686000  1277000     1287000   1241000   \n",
       "\n",
       "         Paris  Bordeaux   Munich  ...    Oslo   Warsaw   Lisbon  Bucharest  \\\n",
       "Year                               ...                                        \n",
       "2012  10569000    876000  1387000  ...  927000  1713000  2840000    1877000   \n",
       "2013  10623000    887000  1404000  ...  941000  1722000  2854000    1868000   \n",
       "2014  10678000    899000  1421000  ...  954000  1731000  2869000    1858000   \n",
       "2015  10734000    910000  1440000  ...  969000  1740000  2883000    1849000   \n",
       "2016  10789000    922000  1461000  ...  983000  1749000  2898000    1840000   \n",
       "\n",
       "      Bratislava  Barcelona  Bilbao   Madrid  Stockholm  Amsterdam  \n",
       "Year                                                                \n",
       "2012      414000    5068000  351000  5957000    1412000    1081000  \n",
       "2013      417000    5137000  352000  6044000    1439000    1089000  \n",
       "2014      419000    5206000  352000  6132000    1467000    1098000  \n",
       "2015      422000    5277000  352000  6221000    1495000    1106000  \n",
       "2016      425000    5348000  352000  6312000    1524000    1115000  \n",
       "\n",
       "[5 rows x 27 columns]"
      ]
     },
     "execution_count": 338,
     "metadata": {},
     "output_type": "execute_result"
    }
   ],
   "source": [
    "pop_df.head()"
   ]
  },
  {
   "cell_type": "markdown",
   "metadata": {},
   "source": [
    "Save this data to a csv if you wish."
   ]
  },
  {
   "cell_type": "code",
   "execution_count": 339,
   "metadata": {},
   "outputs": [],
   "source": [
    "#write_pop_path = Path(\"__file__\").parent.joinpath(\"Manipulated_Data\", \"Weather_Data\").parent.joinpath(\"Weather_Data\", \"Clean Pop.csv\")\n",
    "#pop_df.to_csv(write_pop_path)"
   ]
  },
  {
   "cell_type": "markdown",
   "metadata": {},
   "source": [
    "We now want to create a new column in the df holding the temperature data, in which we have the population of that city for that year. For example the first value of the population column will be 1772000 as this is the population of Vienna in 2012. All values for Vienna in 2012 will be this value, and then when we get to 2013, the population value is 1793000 for vienna."
   ]
  },
  {
   "cell_type": "code",
   "execution_count": 340,
   "metadata": {},
   "outputs": [],
   "source": [
    "cities = df['City']\n",
    "dates = pd.to_datetime(df['Date'], format = '%Y-%m-%d').reset_index()\n",
    "dates.drop(dates.columns[0], axis = 1, inplace= True)\n",
    "dates = dates[\"Date\"].to_list()"
   ]
  },
  {
   "cell_type": "code",
   "execution_count": 341,
   "metadata": {},
   "outputs": [],
   "source": [
    "new_col = []\n",
    "for i, country in enumerate(cities):\n",
    "    #print(i,country)\n",
    "    new_col.append(pop_df.loc[dates[i].year, country])\n",
    "    \n",
    "df['Population'] = new_col"
   ]
  },
  {
   "cell_type": "code",
   "execution_count": 342,
   "metadata": {},
   "outputs": [
    {
     "data": {
      "text/html": [
       "<div>\n",
       "<style scoped>\n",
       "    .dataframe tbody tr th:only-of-type {\n",
       "        vertical-align: middle;\n",
       "    }\n",
       "\n",
       "    .dataframe tbody tr th {\n",
       "        vertical-align: top;\n",
       "    }\n",
       "\n",
       "    .dataframe thead th {\n",
       "        text-align: right;\n",
       "    }\n",
       "</style>\n",
       "<table border=\"1\" class=\"dataframe\">\n",
       "  <thead>\n",
       "    <tr style=\"text-align: right;\">\n",
       "      <th></th>\n",
       "      <th>Region</th>\n",
       "      <th>Country</th>\n",
       "      <th>City</th>\n",
       "      <th>AvgTemperature</th>\n",
       "      <th>Date</th>\n",
       "      <th>Population</th>\n",
       "    </tr>\n",
       "  </thead>\n",
       "  <tbody>\n",
       "    <tr>\n",
       "      <th>638852</th>\n",
       "      <td>Europe</td>\n",
       "      <td>Austria</td>\n",
       "      <td>Vienna</td>\n",
       "      <td>33.1</td>\n",
       "      <td>2012-01-01</td>\n",
       "      <td>1772000.0</td>\n",
       "    </tr>\n",
       "    <tr>\n",
       "      <th>638853</th>\n",
       "      <td>Europe</td>\n",
       "      <td>Austria</td>\n",
       "      <td>Vienna</td>\n",
       "      <td>34.5</td>\n",
       "      <td>2012-01-02</td>\n",
       "      <td>1772000.0</td>\n",
       "    </tr>\n",
       "    <tr>\n",
       "      <th>638854</th>\n",
       "      <td>Europe</td>\n",
       "      <td>Austria</td>\n",
       "      <td>Vienna</td>\n",
       "      <td>43.3</td>\n",
       "      <td>2012-01-03</td>\n",
       "      <td>1772000.0</td>\n",
       "    </tr>\n",
       "    <tr>\n",
       "      <th>638855</th>\n",
       "      <td>Europe</td>\n",
       "      <td>Austria</td>\n",
       "      <td>Vienna</td>\n",
       "      <td>41.1</td>\n",
       "      <td>2012-01-04</td>\n",
       "      <td>1772000.0</td>\n",
       "    </tr>\n",
       "    <tr>\n",
       "      <th>638856</th>\n",
       "      <td>Europe</td>\n",
       "      <td>Austria</td>\n",
       "      <td>Vienna</td>\n",
       "      <td>41.7</td>\n",
       "      <td>2012-01-05</td>\n",
       "      <td>1772000.0</td>\n",
       "    </tr>\n",
       "  </tbody>\n",
       "</table>\n",
       "</div>"
      ],
      "text/plain": [
       "        Region  Country    City  AvgTemperature       Date  Population\n",
       "638852  Europe  Austria  Vienna            33.1 2012-01-01   1772000.0\n",
       "638853  Europe  Austria  Vienna            34.5 2012-01-02   1772000.0\n",
       "638854  Europe  Austria  Vienna            43.3 2012-01-03   1772000.0\n",
       "638855  Europe  Austria  Vienna            41.1 2012-01-04   1772000.0\n",
       "638856  Europe  Austria  Vienna            41.7 2012-01-05   1772000.0"
      ]
     },
     "execution_count": 342,
     "metadata": {},
     "output_type": "execute_result"
    }
   ],
   "source": [
    "df.head()"
   ]
  },
  {
   "cell_type": "markdown",
   "metadata": {},
   "source": [
    "We now want to get a population weight by dividing the population of that country by all the countries that year"
   ]
  },
  {
   "cell_type": "code",
   "execution_count": 343,
   "metadata": {},
   "outputs": [],
   "source": [
    "new_col2 = list(pop_df.loc[df.Date.dt.year].sum(axis = 1))\n",
    "df[\"Cities Sum\"] = new_col2\n",
    "df[\"Population Weight\"] = df[\"Population\"] / df[\"Cities Sum\"]"
   ]
  },
  {
   "cell_type": "markdown",
   "metadata": {},
   "source": [
    "Get the weighted temperature by multiplying the AvgTemperature by the Weighted Temp"
   ]
  },
  {
   "cell_type": "code",
   "execution_count": 344,
   "metadata": {},
   "outputs": [
    {
     "data": {
      "text/html": [
       "<div>\n",
       "<style scoped>\n",
       "    .dataframe tbody tr th:only-of-type {\n",
       "        vertical-align: middle;\n",
       "    }\n",
       "\n",
       "    .dataframe tbody tr th {\n",
       "        vertical-align: top;\n",
       "    }\n",
       "\n",
       "    .dataframe thead th {\n",
       "        text-align: right;\n",
       "    }\n",
       "</style>\n",
       "<table border=\"1\" class=\"dataframe\">\n",
       "  <thead>\n",
       "    <tr style=\"text-align: right;\">\n",
       "      <th></th>\n",
       "      <th>Region</th>\n",
       "      <th>Country</th>\n",
       "      <th>City</th>\n",
       "      <th>AvgTemperature</th>\n",
       "      <th>Date</th>\n",
       "      <th>Population</th>\n",
       "      <th>Cities Sum</th>\n",
       "      <th>Population Weight</th>\n",
       "      <th>Weighted Temp</th>\n",
       "    </tr>\n",
       "  </thead>\n",
       "  <tbody>\n",
       "    <tr>\n",
       "      <th>940495</th>\n",
       "      <td>Europe</td>\n",
       "      <td>Sweden</td>\n",
       "      <td>Stockholm</td>\n",
       "      <td>42.8</td>\n",
       "      <td>2020-05-04</td>\n",
       "      <td>1633000.0</td>\n",
       "      <td>61125667.53</td>\n",
       "      <td>0.026715</td>\n",
       "      <td>1.143421</td>\n",
       "    </tr>\n",
       "    <tr>\n",
       "      <th>940496</th>\n",
       "      <td>Europe</td>\n",
       "      <td>Sweden</td>\n",
       "      <td>Stockholm</td>\n",
       "      <td>45.4</td>\n",
       "      <td>2020-05-05</td>\n",
       "      <td>1633000.0</td>\n",
       "      <td>61125667.53</td>\n",
       "      <td>0.026715</td>\n",
       "      <td>1.212882</td>\n",
       "    </tr>\n",
       "    <tr>\n",
       "      <th>940497</th>\n",
       "      <td>Europe</td>\n",
       "      <td>Sweden</td>\n",
       "      <td>Stockholm</td>\n",
       "      <td>48.2</td>\n",
       "      <td>2020-05-06</td>\n",
       "      <td>1633000.0</td>\n",
       "      <td>61125667.53</td>\n",
       "      <td>0.026715</td>\n",
       "      <td>1.287685</td>\n",
       "    </tr>\n",
       "    <tr>\n",
       "      <th>940498</th>\n",
       "      <td>Europe</td>\n",
       "      <td>Sweden</td>\n",
       "      <td>Stockholm</td>\n",
       "      <td>47.0</td>\n",
       "      <td>2020-05-07</td>\n",
       "      <td>1633000.0</td>\n",
       "      <td>61125667.53</td>\n",
       "      <td>0.026715</td>\n",
       "      <td>1.255626</td>\n",
       "    </tr>\n",
       "    <tr>\n",
       "      <th>940499</th>\n",
       "      <td>Europe</td>\n",
       "      <td>Sweden</td>\n",
       "      <td>Stockholm</td>\n",
       "      <td>51.7</td>\n",
       "      <td>2020-05-08</td>\n",
       "      <td>1633000.0</td>\n",
       "      <td>61125667.53</td>\n",
       "      <td>0.026715</td>\n",
       "      <td>1.381189</td>\n",
       "    </tr>\n",
       "    <tr>\n",
       "      <th>940500</th>\n",
       "      <td>Europe</td>\n",
       "      <td>Sweden</td>\n",
       "      <td>Stockholm</td>\n",
       "      <td>47.8</td>\n",
       "      <td>2020-05-09</td>\n",
       "      <td>1633000.0</td>\n",
       "      <td>61125667.53</td>\n",
       "      <td>0.026715</td>\n",
       "      <td>1.276999</td>\n",
       "    </tr>\n",
       "    <tr>\n",
       "      <th>940501</th>\n",
       "      <td>Europe</td>\n",
       "      <td>Sweden</td>\n",
       "      <td>Stockholm</td>\n",
       "      <td>49.7</td>\n",
       "      <td>2020-05-10</td>\n",
       "      <td>1633000.0</td>\n",
       "      <td>61125667.53</td>\n",
       "      <td>0.026715</td>\n",
       "      <td>1.327758</td>\n",
       "    </tr>\n",
       "    <tr>\n",
       "      <th>940502</th>\n",
       "      <td>Europe</td>\n",
       "      <td>Sweden</td>\n",
       "      <td>Stockholm</td>\n",
       "      <td>40.1</td>\n",
       "      <td>2020-05-11</td>\n",
       "      <td>1633000.0</td>\n",
       "      <td>61125667.53</td>\n",
       "      <td>0.026715</td>\n",
       "      <td>1.071290</td>\n",
       "    </tr>\n",
       "    <tr>\n",
       "      <th>940503</th>\n",
       "      <td>Europe</td>\n",
       "      <td>Sweden</td>\n",
       "      <td>Stockholm</td>\n",
       "      <td>40.8</td>\n",
       "      <td>2020-05-12</td>\n",
       "      <td>1633000.0</td>\n",
       "      <td>61125667.53</td>\n",
       "      <td>0.026715</td>\n",
       "      <td>1.089991</td>\n",
       "    </tr>\n",
       "    <tr>\n",
       "      <th>940504</th>\n",
       "      <td>Europe</td>\n",
       "      <td>Sweden</td>\n",
       "      <td>Stockholm</td>\n",
       "      <td>36.7</td>\n",
       "      <td>2020-05-13</td>\n",
       "      <td>1633000.0</td>\n",
       "      <td>61125667.53</td>\n",
       "      <td>0.026715</td>\n",
       "      <td>0.980457</td>\n",
       "    </tr>\n",
       "  </tbody>\n",
       "</table>\n",
       "</div>"
      ],
      "text/plain": [
       "        Region Country       City  AvgTemperature       Date  Population  \\\n",
       "940495  Europe  Sweden  Stockholm            42.8 2020-05-04   1633000.0   \n",
       "940496  Europe  Sweden  Stockholm            45.4 2020-05-05   1633000.0   \n",
       "940497  Europe  Sweden  Stockholm            48.2 2020-05-06   1633000.0   \n",
       "940498  Europe  Sweden  Stockholm            47.0 2020-05-07   1633000.0   \n",
       "940499  Europe  Sweden  Stockholm            51.7 2020-05-08   1633000.0   \n",
       "940500  Europe  Sweden  Stockholm            47.8 2020-05-09   1633000.0   \n",
       "940501  Europe  Sweden  Stockholm            49.7 2020-05-10   1633000.0   \n",
       "940502  Europe  Sweden  Stockholm            40.1 2020-05-11   1633000.0   \n",
       "940503  Europe  Sweden  Stockholm            40.8 2020-05-12   1633000.0   \n",
       "940504  Europe  Sweden  Stockholm            36.7 2020-05-13   1633000.0   \n",
       "\n",
       "         Cities Sum  Population Weight  Weighted Temp  \n",
       "940495  61125667.53           0.026715       1.143421  \n",
       "940496  61125667.53           0.026715       1.212882  \n",
       "940497  61125667.53           0.026715       1.287685  \n",
       "940498  61125667.53           0.026715       1.255626  \n",
       "940499  61125667.53           0.026715       1.381189  \n",
       "940500  61125667.53           0.026715       1.276999  \n",
       "940501  61125667.53           0.026715       1.327758  \n",
       "940502  61125667.53           0.026715       1.071290  \n",
       "940503  61125667.53           0.026715       1.089991  \n",
       "940504  61125667.53           0.026715       0.980457  "
      ]
     },
     "execution_count": 344,
     "metadata": {},
     "output_type": "execute_result"
    }
   ],
   "source": [
    "df[\"Weighted Temp\"] = df[\"AvgTemperature\"] * df[\"Population Weight\"]\n",
    "df.tail(10)"
   ]
  },
  {
   "cell_type": "markdown",
   "metadata": {},
   "source": [
    "Now get a final dataframe that contains the date and the weighted european average temperature."
   ]
  },
  {
   "cell_type": "code",
   "execution_count": 345,
   "metadata": {},
   "outputs": [
    {
     "data": {
      "text/html": [
       "<div>\n",
       "<style scoped>\n",
       "    .dataframe tbody tr th:only-of-type {\n",
       "        vertical-align: middle;\n",
       "    }\n",
       "\n",
       "    .dataframe tbody tr th {\n",
       "        vertical-align: top;\n",
       "    }\n",
       "\n",
       "    .dataframe thead th {\n",
       "        text-align: right;\n",
       "    }\n",
       "</style>\n",
       "<table border=\"1\" class=\"dataframe\">\n",
       "  <thead>\n",
       "    <tr style=\"text-align: right;\">\n",
       "      <th></th>\n",
       "      <th>AvgTemperature</th>\n",
       "      <th>Population</th>\n",
       "      <th>Cities Sum</th>\n",
       "      <th>Population Weight</th>\n",
       "      <th>Weighted Temp</th>\n",
       "    </tr>\n",
       "    <tr>\n",
       "      <th>Date</th>\n",
       "      <th></th>\n",
       "      <th></th>\n",
       "      <th></th>\n",
       "      <th></th>\n",
       "      <th></th>\n",
       "    </tr>\n",
       "  </thead>\n",
       "  <tbody>\n",
       "    <tr>\n",
       "      <th>2012-01-01</th>\n",
       "      <td>945.2</td>\n",
       "      <td>57655762.23</td>\n",
       "      <td>1.556706e+09</td>\n",
       "      <td>1.0</td>\n",
       "      <td>36.538205</td>\n",
       "    </tr>\n",
       "    <tr>\n",
       "      <th>2012-01-02</th>\n",
       "      <td>1121.2</td>\n",
       "      <td>57655762.23</td>\n",
       "      <td>1.556706e+09</td>\n",
       "      <td>1.0</td>\n",
       "      <td>45.174428</td>\n",
       "    </tr>\n",
       "    <tr>\n",
       "      <th>2012-01-03</th>\n",
       "      <td>1124.1</td>\n",
       "      <td>57655762.23</td>\n",
       "      <td>1.556706e+09</td>\n",
       "      <td>1.0</td>\n",
       "      <td>44.275201</td>\n",
       "    </tr>\n",
       "    <tr>\n",
       "      <th>2012-01-04</th>\n",
       "      <td>1130.7</td>\n",
       "      <td>57655762.23</td>\n",
       "      <td>1.556706e+09</td>\n",
       "      <td>1.0</td>\n",
       "      <td>44.069150</td>\n",
       "    </tr>\n",
       "    <tr>\n",
       "      <th>2012-01-05</th>\n",
       "      <td>1120.2</td>\n",
       "      <td>57655762.23</td>\n",
       "      <td>1.556706e+09</td>\n",
       "      <td>1.0</td>\n",
       "      <td>44.580459</td>\n",
       "    </tr>\n",
       "  </tbody>\n",
       "</table>\n",
       "</div>"
      ],
      "text/plain": [
       "            AvgTemperature   Population    Cities Sum  Population Weight  \\\n",
       "Date                                                                       \n",
       "2012-01-01           945.2  57655762.23  1.556706e+09                1.0   \n",
       "2012-01-02          1121.2  57655762.23  1.556706e+09                1.0   \n",
       "2012-01-03          1124.1  57655762.23  1.556706e+09                1.0   \n",
       "2012-01-04          1130.7  57655762.23  1.556706e+09                1.0   \n",
       "2012-01-05          1120.2  57655762.23  1.556706e+09                1.0   \n",
       "\n",
       "            Weighted Temp  \n",
       "Date                       \n",
       "2012-01-01      36.538205  \n",
       "2012-01-02      45.174428  \n",
       "2012-01-03      44.275201  \n",
       "2012-01-04      44.069150  \n",
       "2012-01-05      44.580459  "
      ]
     },
     "execution_count": 345,
     "metadata": {},
     "output_type": "execute_result"
    }
   ],
   "source": [
    "temp_index = df.groupby([\"Date\"]).sum([\"Weighted Temp\"])\n",
    "temp_index.head()"
   ]
  },
  {
   "cell_type": "code",
   "execution_count": 346,
   "metadata": {},
   "outputs": [
    {
     "data": {
      "text/html": [
       "<div>\n",
       "<style scoped>\n",
       "    .dataframe tbody tr th:only-of-type {\n",
       "        vertical-align: middle;\n",
       "    }\n",
       "\n",
       "    .dataframe tbody tr th {\n",
       "        vertical-align: top;\n",
       "    }\n",
       "\n",
       "    .dataframe thead th {\n",
       "        text-align: right;\n",
       "    }\n",
       "</style>\n",
       "<table border=\"1\" class=\"dataframe\">\n",
       "  <thead>\n",
       "    <tr style=\"text-align: right;\">\n",
       "      <th></th>\n",
       "      <th>Date</th>\n",
       "      <th>Weighted Temp</th>\n",
       "    </tr>\n",
       "  </thead>\n",
       "  <tbody>\n",
       "    <tr>\n",
       "      <th>0</th>\n",
       "      <td>2012-01-01</td>\n",
       "      <td>36.538205</td>\n",
       "    </tr>\n",
       "    <tr>\n",
       "      <th>1</th>\n",
       "      <td>2012-01-02</td>\n",
       "      <td>45.174428</td>\n",
       "    </tr>\n",
       "    <tr>\n",
       "      <th>2</th>\n",
       "      <td>2012-01-03</td>\n",
       "      <td>44.275201</td>\n",
       "    </tr>\n",
       "    <tr>\n",
       "      <th>3</th>\n",
       "      <td>2012-01-04</td>\n",
       "      <td>44.069150</td>\n",
       "    </tr>\n",
       "    <tr>\n",
       "      <th>4</th>\n",
       "      <td>2012-01-05</td>\n",
       "      <td>44.580459</td>\n",
       "    </tr>\n",
       "  </tbody>\n",
       "</table>\n",
       "</div>"
      ],
      "text/plain": [
       "        Date  Weighted Temp\n",
       "0 2012-01-01      36.538205\n",
       "1 2012-01-02      45.174428\n",
       "2 2012-01-03      44.275201\n",
       "3 2012-01-04      44.069150\n",
       "4 2012-01-05      44.580459"
      ]
     },
     "execution_count": 346,
     "metadata": {},
     "output_type": "execute_result"
    }
   ],
   "source": [
    "temp_index.drop(temp_index.columns[[0,1,2,3]], axis = 1, inplace = True)\n",
    "temp_index.reset_index(inplace=True)\n",
    "temp_index .head()"
   ]
  },
  {
   "cell_type": "code",
   "execution_count": 347,
   "metadata": {},
   "outputs": [
    {
     "data": {
      "text/plain": [
       "0"
      ]
     },
     "execution_count": 347,
     "metadata": {},
     "output_type": "execute_result"
    }
   ],
   "source": [
    "np.isnan(temp_index[\"Weighted Temp\"]).sum()"
   ]
  },
  {
   "cell_type": "code",
   "execution_count": 348,
   "metadata": {},
   "outputs": [],
   "source": [
    "start_date = \"2012-01-01\"\n",
    "end_date = \"2015-02-24\" \n",
    "temp_end_date = \"2013-06-13\""
   ]
  },
  {
   "cell_type": "code",
   "execution_count": 349,
   "metadata": {},
   "outputs": [
    {
     "name": "stderr",
     "output_type": "stream",
     "text": [
      "C:\\Users\\rafir\\AppData\\Local\\Temp\\ipykernel_10368\\18253843.py:3: SettingWithCopyWarning: \n",
      "A value is trying to be set on a copy of a slice from a DataFrame.\n",
      "Try using .loc[row_indexer,col_indexer] = value instead\n",
      "\n",
      "See the caveats in the documentation: https://pandas.pydata.org/pandas-docs/stable/user_guide/indexing.html#returning-a-view-versus-a-copy\n",
      "  extension_df[\"Date Updated\"] = pd.to_datetime(extension_df[\"Date\"]) + pd.DateOffset(years = 7)\n"
     ]
    }
   ],
   "source": [
    "\n",
    "mask = (temp_index['Date'] > temp_end_date) & (temp_index['Date'] <= end_date)\n",
    "extension_df =  temp_index.loc[mask]\n",
    "extension_df[\"Date Updated\"] = pd.to_datetime(extension_df[\"Date\"]) + pd.DateOffset(years = 7)"
   ]
  },
  {
   "cell_type": "code",
   "execution_count": 350,
   "metadata": {},
   "outputs": [
    {
     "name": "stderr",
     "output_type": "stream",
     "text": [
      "C:\\Users\\rafir\\AppData\\Local\\Temp\\ipykernel_10368\\3709912510.py:1: SettingWithCopyWarning: \n",
      "A value is trying to be set on a copy of a slice from a DataFrame\n",
      "\n",
      "See the caveats in the documentation: https://pandas.pydata.org/pandas-docs/stable/user_guide/indexing.html#returning-a-view-versus-a-copy\n",
      "  extension_df.drop(extension_df.columns[[0]], axis = 1, inplace = True)\n",
      "C:\\Users\\rafir\\AppData\\Local\\Temp\\ipykernel_10368\\3709912510.py:2: SettingWithCopyWarning: \n",
      "A value is trying to be set on a copy of a slice from a DataFrame\n",
      "\n",
      "See the caveats in the documentation: https://pandas.pydata.org/pandas-docs/stable/user_guide/indexing.html#returning-a-view-versus-a-copy\n",
      "  extension_df.rename({'Date Updated': 'Date'}, axis=1, inplace=True)\n"
     ]
    }
   ],
   "source": [
    "extension_df.drop(extension_df.columns[[0]], axis = 1, inplace = True)\n",
    "extension_df.rename({'Date Updated': 'Date'}, axis=1, inplace=True)"
   ]
  },
  {
   "cell_type": "code",
   "execution_count": 351,
   "metadata": {},
   "outputs": [
    {
     "data": {
      "text/html": [
       "<div>\n",
       "<style scoped>\n",
       "    .dataframe tbody tr th:only-of-type {\n",
       "        vertical-align: middle;\n",
       "    }\n",
       "\n",
       "    .dataframe tbody tr th {\n",
       "        vertical-align: top;\n",
       "    }\n",
       "\n",
       "    .dataframe thead th {\n",
       "        text-align: right;\n",
       "    }\n",
       "</style>\n",
       "<table border=\"1\" class=\"dataframe\">\n",
       "  <thead>\n",
       "    <tr style=\"text-align: right;\">\n",
       "      <th></th>\n",
       "      <th>Weighted Temp</th>\n",
       "      <th>Date</th>\n",
       "    </tr>\n",
       "  </thead>\n",
       "  <tbody>\n",
       "    <tr>\n",
       "      <th>530</th>\n",
       "      <td>62.572870</td>\n",
       "      <td>2020-06-14</td>\n",
       "    </tr>\n",
       "    <tr>\n",
       "      <th>531</th>\n",
       "      <td>63.621284</td>\n",
       "      <td>2020-06-15</td>\n",
       "    </tr>\n",
       "    <tr>\n",
       "      <th>532</th>\n",
       "      <td>64.966148</td>\n",
       "      <td>2020-06-16</td>\n",
       "    </tr>\n",
       "    <tr>\n",
       "      <th>533</th>\n",
       "      <td>65.379316</td>\n",
       "      <td>2020-06-17</td>\n",
       "    </tr>\n",
       "    <tr>\n",
       "      <th>534</th>\n",
       "      <td>67.350527</td>\n",
       "      <td>2020-06-18</td>\n",
       "    </tr>\n",
       "    <tr>\n",
       "      <th>...</th>\n",
       "      <td>...</td>\n",
       "      <td>...</td>\n",
       "    </tr>\n",
       "    <tr>\n",
       "      <th>1146</th>\n",
       "      <td>39.281313</td>\n",
       "      <td>2022-02-20</td>\n",
       "    </tr>\n",
       "    <tr>\n",
       "      <th>1147</th>\n",
       "      <td>39.476590</td>\n",
       "      <td>2022-02-21</td>\n",
       "    </tr>\n",
       "    <tr>\n",
       "      <th>1148</th>\n",
       "      <td>39.698829</td>\n",
       "      <td>2022-02-22</td>\n",
       "    </tr>\n",
       "    <tr>\n",
       "      <th>1149</th>\n",
       "      <td>42.076405</td>\n",
       "      <td>2022-02-23</td>\n",
       "    </tr>\n",
       "    <tr>\n",
       "      <th>1150</th>\n",
       "      <td>41.821095</td>\n",
       "      <td>2022-02-24</td>\n",
       "    </tr>\n",
       "  </tbody>\n",
       "</table>\n",
       "<p>621 rows × 2 columns</p>\n",
       "</div>"
      ],
      "text/plain": [
       "      Weighted Temp       Date\n",
       "530       62.572870 2020-06-14\n",
       "531       63.621284 2020-06-15\n",
       "532       64.966148 2020-06-16\n",
       "533       65.379316 2020-06-17\n",
       "534       67.350527 2020-06-18\n",
       "...             ...        ...\n",
       "1146      39.281313 2022-02-20\n",
       "1147      39.476590 2022-02-21\n",
       "1148      39.698829 2022-02-22\n",
       "1149      42.076405 2022-02-23\n",
       "1150      41.821095 2022-02-24\n",
       "\n",
       "[621 rows x 2 columns]"
      ]
     },
     "execution_count": 351,
     "metadata": {},
     "output_type": "execute_result"
    }
   ],
   "source": [
    "extension_df"
   ]
  },
  {
   "cell_type": "code",
   "execution_count": 352,
   "metadata": {},
   "outputs": [],
   "source": [
    "extension_df = extension_df[[\"Date\", \"Weighted Temp\"] ]\n"
   ]
  },
  {
   "cell_type": "code",
   "execution_count": 353,
   "metadata": {},
   "outputs": [
    {
     "name": "stderr",
     "output_type": "stream",
     "text": [
      "C:\\Users\\rafir\\AppData\\Local\\Temp\\ipykernel_10368\\1770622856.py:1: FutureWarning: The frame.append method is deprecated and will be removed from pandas in a future version. Use pandas.concat instead.\n",
      "  temp_index = temp_index.append(extension_df)\n"
     ]
    }
   ],
   "source": [
    "temp_index = temp_index.append(extension_df)"
   ]
  },
  {
   "cell_type": "code",
   "execution_count": 354,
   "metadata": {},
   "outputs": [],
   "source": [
    "temp_index = temp_index.drop_duplicates(keep = \"first\").reset_index()"
   ]
  },
  {
   "cell_type": "code",
   "execution_count": 355,
   "metadata": {},
   "outputs": [
    {
     "data": {
      "text/html": [
       "<div>\n",
       "<style scoped>\n",
       "    .dataframe tbody tr th:only-of-type {\n",
       "        vertical-align: middle;\n",
       "    }\n",
       "\n",
       "    .dataframe tbody tr th {\n",
       "        vertical-align: top;\n",
       "    }\n",
       "\n",
       "    .dataframe thead th {\n",
       "        text-align: right;\n",
       "    }\n",
       "</style>\n",
       "<table border=\"1\" class=\"dataframe\">\n",
       "  <thead>\n",
       "    <tr style=\"text-align: right;\">\n",
       "      <th></th>\n",
       "      <th>index</th>\n",
       "      <th>Date</th>\n",
       "      <th>Weighted Temp</th>\n",
       "    </tr>\n",
       "  </thead>\n",
       "  <tbody>\n",
       "    <tr>\n",
       "      <th>0</th>\n",
       "      <td>0</td>\n",
       "      <td>2012-01-01</td>\n",
       "      <td>36.538205</td>\n",
       "    </tr>\n",
       "    <tr>\n",
       "      <th>1</th>\n",
       "      <td>1</td>\n",
       "      <td>2012-01-02</td>\n",
       "      <td>45.174428</td>\n",
       "    </tr>\n",
       "    <tr>\n",
       "      <th>2</th>\n",
       "      <td>2</td>\n",
       "      <td>2012-01-03</td>\n",
       "      <td>44.275201</td>\n",
       "    </tr>\n",
       "    <tr>\n",
       "      <th>3</th>\n",
       "      <td>3</td>\n",
       "      <td>2012-01-04</td>\n",
       "      <td>44.069150</td>\n",
       "    </tr>\n",
       "    <tr>\n",
       "      <th>4</th>\n",
       "      <td>4</td>\n",
       "      <td>2012-01-05</td>\n",
       "      <td>44.580459</td>\n",
       "    </tr>\n",
       "    <tr>\n",
       "      <th>...</th>\n",
       "      <td>...</td>\n",
       "      <td>...</td>\n",
       "      <td>...</td>\n",
       "    </tr>\n",
       "    <tr>\n",
       "      <th>3672</th>\n",
       "      <td>1146</td>\n",
       "      <td>2022-02-20</td>\n",
       "      <td>39.281313</td>\n",
       "    </tr>\n",
       "    <tr>\n",
       "      <th>3673</th>\n",
       "      <td>1147</td>\n",
       "      <td>2022-02-21</td>\n",
       "      <td>39.476590</td>\n",
       "    </tr>\n",
       "    <tr>\n",
       "      <th>3674</th>\n",
       "      <td>1148</td>\n",
       "      <td>2022-02-22</td>\n",
       "      <td>39.698829</td>\n",
       "    </tr>\n",
       "    <tr>\n",
       "      <th>3675</th>\n",
       "      <td>1149</td>\n",
       "      <td>2022-02-23</td>\n",
       "      <td>42.076405</td>\n",
       "    </tr>\n",
       "    <tr>\n",
       "      <th>3676</th>\n",
       "      <td>1150</td>\n",
       "      <td>2022-02-24</td>\n",
       "      <td>41.821095</td>\n",
       "    </tr>\n",
       "  </tbody>\n",
       "</table>\n",
       "<p>3677 rows × 3 columns</p>\n",
       "</div>"
      ],
      "text/plain": [
       "      index       Date  Weighted Temp\n",
       "0         0 2012-01-01      36.538205\n",
       "1         1 2012-01-02      45.174428\n",
       "2         2 2012-01-03      44.275201\n",
       "3         3 2012-01-04      44.069150\n",
       "4         4 2012-01-05      44.580459\n",
       "...     ...        ...            ...\n",
       "3672   1146 2022-02-20      39.281313\n",
       "3673   1147 2022-02-21      39.476590\n",
       "3674   1148 2022-02-22      39.698829\n",
       "3675   1149 2022-02-23      42.076405\n",
       "3676   1150 2022-02-24      41.821095\n",
       "\n",
       "[3677 rows x 3 columns]"
      ]
     },
     "execution_count": 355,
     "metadata": {},
     "output_type": "execute_result"
    }
   ],
   "source": [
    "temp_index"
   ]
  },
  {
   "cell_type": "markdown",
   "metadata": {},
   "source": [
    "Plot the data to inspect for peculiarities. We can see that there are a few data points distorting our data."
   ]
  },
  {
   "cell_type": "code",
   "execution_count": 356,
   "metadata": {},
   "outputs": [
    {
     "data": {
      "image/png": "[encoded data removed]",
      "text/plain": [
       "<Figure size 432x288 with 1 Axes>"
      ]
     },
     "metadata": {
      "needs_background": "light"
     },
     "output_type": "display_data"
    }
   ],
   "source": [
    "series = temp_index[\"Weighted Temp\"]\n",
    "series.plot()\n",
    "#plt.savefig(\"TempIndex.png\")\n",
    "plt.show()"
   ]
  },
  {
   "cell_type": "markdown",
   "metadata": {},
   "source": [
    "Identify all outliers that fall more than two standard deviations below the mean and remove them."
   ]
  },
  {
   "cell_type": "code",
   "execution_count": 357,
   "metadata": {},
   "outputs": [],
   "source": [
    "outliers = temp_index[\"Weighted Temp\"] < temp_index[\"Weighted Temp\"].mean() - 2*temp_index[\"Weighted Temp\"].std()\n",
    "index = [i for i, val in enumerate(outliers) if val]"
   ]
  },
  {
   "cell_type": "code",
   "execution_count": 358,
   "metadata": {},
   "outputs": [
    {
     "data": {
      "text/plain": [
       "[767,\n",
       " 1459,\n",
       " 1460,\n",
       " 1530,\n",
       " 1586,\n",
       " 1725,\n",
       " 1776,\n",
       " 2195,\n",
       " 2509,\n",
       " 2510,\n",
       " 2512,\n",
       " 2579,\n",
       " 2670,\n",
       " 2692,\n",
       " 2693,\n",
       " 2694,\n",
       " 2695,\n",
       " 3293]"
      ]
     },
     "execution_count": 358,
     "metadata": {},
     "output_type": "execute_result"
    }
   ],
   "source": [
    "index"
   ]
  },
  {
   "cell_type": "code",
   "execution_count": 359,
   "metadata": {},
   "outputs": [
    {
     "name": "stderr",
     "output_type": "stream",
     "text": [
      "C:\\Users\\rafir\\AppData\\Local\\Temp\\ipykernel_10368\\431084386.py:2: SettingWithCopyWarning: \n",
      "A value is trying to be set on a copy of a slice from a DataFrame\n",
      "\n",
      "See the caveats in the documentation: https://pandas.pydata.org/pandas-docs/stable/user_guide/indexing.html#returning-a-view-versus-a-copy\n",
      "  temp_index[\"Weighted Temp\"][value] =  temp_index[\"Weighted Temp\"][value-5]\n"
     ]
    }
   ],
   "source": [
    "for value in index:\n",
    "    temp_index[\"Weighted Temp\"][value] =  temp_index[\"Weighted Temp\"][value-5] "
   ]
  },
  {
   "cell_type": "markdown",
   "metadata": {},
   "source": [
    "Plot the data again and look for peculiarities."
   ]
  },
  {
   "cell_type": "code",
   "execution_count": 360,
   "metadata": {},
   "outputs": [
    {
     "data": {
      "image/png": "[encoded data removed]",
      "text/plain": [
       "<Figure size 432x288 with 1 Axes>"
      ]
     },
     "metadata": {
      "needs_background": "light"
     },
     "output_type": "display_data"
    }
   ],
   "source": [
    "series = temp_index[\"Weighted Temp\"]\n",
    "series.plot()\n",
    "#plt.savefig(\"TempIndex.png\")\n",
    "plt.show()"
   ]
  },
  {
   "cell_type": "code",
   "execution_count": 361,
   "metadata": {},
   "outputs": [],
   "source": [
    "temp_index.drop(temp_index.columns[[0]], axis = 1, inplace=True)"
   ]
  },
  {
   "cell_type": "code",
   "execution_count": 362,
   "metadata": {},
   "outputs": [
    {
     "data": {
      "text/html": [
       "<div>\n",
       "<style scoped>\n",
       "    .dataframe tbody tr th:only-of-type {\n",
       "        vertical-align: middle;\n",
       "    }\n",
       "\n",
       "    .dataframe tbody tr th {\n",
       "        vertical-align: top;\n",
       "    }\n",
       "\n",
       "    .dataframe thead th {\n",
       "        text-align: right;\n",
       "    }\n",
       "</style>\n",
       "<table border=\"1\" class=\"dataframe\">\n",
       "  <thead>\n",
       "    <tr style=\"text-align: right;\">\n",
       "      <th></th>\n",
       "      <th>Date</th>\n",
       "      <th>Weighted Temp</th>\n",
       "    </tr>\n",
       "  </thead>\n",
       "  <tbody>\n",
       "    <tr>\n",
       "      <th>0</th>\n",
       "      <td>2012-01-01</td>\n",
       "      <td>36.538205</td>\n",
       "    </tr>\n",
       "    <tr>\n",
       "      <th>1</th>\n",
       "      <td>2012-01-02</td>\n",
       "      <td>45.174428</td>\n",
       "    </tr>\n",
       "    <tr>\n",
       "      <th>2</th>\n",
       "      <td>2012-01-03</td>\n",
       "      <td>44.275201</td>\n",
       "    </tr>\n",
       "    <tr>\n",
       "      <th>3</th>\n",
       "      <td>2012-01-04</td>\n",
       "      <td>44.069150</td>\n",
       "    </tr>\n",
       "    <tr>\n",
       "      <th>4</th>\n",
       "      <td>2012-01-05</td>\n",
       "      <td>44.580459</td>\n",
       "    </tr>\n",
       "    <tr>\n",
       "      <th>...</th>\n",
       "      <td>...</td>\n",
       "      <td>...</td>\n",
       "    </tr>\n",
       "    <tr>\n",
       "      <th>3672</th>\n",
       "      <td>2022-02-20</td>\n",
       "      <td>39.281313</td>\n",
       "    </tr>\n",
       "    <tr>\n",
       "      <th>3673</th>\n",
       "      <td>2022-02-21</td>\n",
       "      <td>39.476590</td>\n",
       "    </tr>\n",
       "    <tr>\n",
       "      <th>3674</th>\n",
       "      <td>2022-02-22</td>\n",
       "      <td>39.698829</td>\n",
       "    </tr>\n",
       "    <tr>\n",
       "      <th>3675</th>\n",
       "      <td>2022-02-23</td>\n",
       "      <td>42.076405</td>\n",
       "    </tr>\n",
       "    <tr>\n",
       "      <th>3676</th>\n",
       "      <td>2022-02-24</td>\n",
       "      <td>41.821095</td>\n",
       "    </tr>\n",
       "  </tbody>\n",
       "</table>\n",
       "<p>3677 rows × 2 columns</p>\n",
       "</div>"
      ],
      "text/plain": [
       "           Date  Weighted Temp\n",
       "0    2012-01-01      36.538205\n",
       "1    2012-01-02      45.174428\n",
       "2    2012-01-03      44.275201\n",
       "3    2012-01-04      44.069150\n",
       "4    2012-01-05      44.580459\n",
       "...         ...            ...\n",
       "3672 2022-02-20      39.281313\n",
       "3673 2022-02-21      39.476590\n",
       "3674 2022-02-22      39.698829\n",
       "3675 2022-02-23      42.076405\n",
       "3676 2022-02-24      41.821095\n",
       "\n",
       "[3677 rows x 2 columns]"
      ]
     },
     "execution_count": 362,
     "metadata": {},
     "output_type": "execute_result"
    }
   ],
   "source": [
    "temp_index"
   ]
  },
  {
   "cell_type": "code",
   "execution_count": 363,
   "metadata": {},
   "outputs": [],
   "source": [
    "write_index2_path = Path(\"__file__\").parent.joinpath(\"Manipulated_Data\", \"Weather_Data\").parent.joinpath(\"Weather_Data\", \"Temperature Index 2.csv\")\n",
    "temp_index.to_csv(write_index2_path)"
   ]
  },
  {
   "cell_type": "code",
   "execution_count": null,
   "metadata": {},
   "outputs": [],
   "source": []
  }
 ],
 "metadata": {
  "kernelspec": {
   "display_name": "Python 3.10.1 64-bit",
   "language": "python",
   "name": "python3"
  },
  "language_info": {
   "codemirror_mode": {
    "name": "ipython",
    "version": 3
   },
   "file_extension": ".py",
   "mimetype": "text/x-python",
   "name": "python",
   "nbconvert_exporter": "python",
   "pygments_lexer": "ipython3",
   "version": "3.10.1"
  },
  "orig_nbformat": 4,
  "vscode": {
   "interpreter": {
    "hash": "34582ebd168d976873e3d366c8afcfe3b8d31dc7b36d4bbc5af5e4870d349471"
   }
  }
 },
 "nbformat": 4,
 "nbformat_minor": 2
}
